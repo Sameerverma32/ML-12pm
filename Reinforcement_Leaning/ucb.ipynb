{
 "cells": [
  {
   "cell_type": "code",
   "execution_count": 1,
   "id": "b877e283",
   "metadata": {},
   "outputs": [],
   "source": [
    "import math\n",
    "import random"
   ]
  },
  {
   "cell_type": "code",
   "execution_count": 2,
   "id": "915a3b0d",
   "metadata": {},
   "outputs": [],
   "source": [
    "n_machines = 3\n",
    "n_trials = 10\n"
   ]
  },
  {
   "cell_type": "markdown",
   "id": "25737d06",
   "metadata": {},
   "source": [
    "- count[i] = store how many times machine i has been played\n",
    "- rewords[i] = store how many total rewards were recived from machine i\n",
    "- initially = all values are 0 because we have not played yet "
   ]
  },
  {
   "cell_type": "code",
   "execution_count": null,
   "id": "e4357e05",
   "metadata": {},
   "outputs": [],
   "source": []
  }
 ],
 "metadata": {
  "kernelspec": {
   "display_name": "base",
   "language": "python",
   "name": "python3"
  },
  "language_info": {
   "codemirror_mode": {
    "name": "ipython",
    "version": 3
   },
   "file_extension": ".py",
   "mimetype": "text/x-python",
   "name": "python",
   "nbconvert_exporter": "python",
   "pygments_lexer": "ipython3",
   "version": "3.12.3"
  }
 },
 "nbformat": 4,
 "nbformat_minor": 5
}
