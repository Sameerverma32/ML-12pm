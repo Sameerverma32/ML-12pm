{
 "cells": [
  {
   "cell_type": "markdown",
   "id": "02116dbb",
   "metadata": {},
   "source": [
    "BENEFITS\n",
    "\n",
    "- Each machine starts with a random chance of being the best\n",
    "- Every time you play, you update what you know about each machine\n",
    "- Instead of just picking the machine with the highes average, you randomly choose based on how confident you are that a machine is the best\n",
    "\n",
    "Why is this better: Even if a machine in a smart way. it doesn't get stuck on a bad choice"
   ]
  },
  {
   "cell_type": "code",
   "execution_count": 1,
   "id": "2d63b900",
   "metadata": {},
   "outputs": [],
   "source": [
    "import random"
   ]
  },
  {
   "cell_type": "code",
   "execution_count": 2,
   "id": "db04eac7",
   "metadata": {},
   "outputs": [],
   "source": [
    "n_machines = 3\n",
    "n_trials = 10\n",
    "true_rewards = [0.2, 0.5, 0.8]"
   ]
  },
  {
   "cell_type": "code",
   "execution_count": 3,
   "id": "433d8e56",
   "metadata": {},
   "outputs": [],
   "source": [
    "success = [0] * n_machines\n",
    "failures = [0] * n_machines"
   ]
  },
  {
   "cell_type": "code",
   "execution_count": 4,
   "id": "abb458e1",
   "metadata": {},
   "outputs": [],
   "source": [
    "for i in range(n_trials):\n",
    "    sampled_values = [random.betavariate(success[j]+1, failures[j]+1) for j in range(n_machines)]\n",
    "    arm = sampled_values.index(max(sampled_values)) #Choose the best guess\n",
    "    reward = 1 if random.random() < true_rewards[arm] else 0\n",
    "    if reward == 1:\n",
    "        success[arm] += 1\n",
    "    else:\n",
    "        failures[arm] += 1"
   ]
  },
  {
   "cell_type": "code",
   "execution_count": 5,
   "id": "4a77b5de",
   "metadata": {},
   "outputs": [
    {
     "name": "stdout",
     "output_type": "stream",
     "text": [
      "Machine 1: Played 2 times, Estimated win rate 0.00\n",
      "Machine 2: Played 2 times, Estimated win rate 0.00\n",
      "Machine 3: Played 6 times, Estimated win rate 0.83\n",
      "Best Machine to play: 3\n"
     ]
    }
   ],
   "source": [
    "for i in range(n_machines):\n",
    "    total = success[i] + failures[i]\n",
    "    print(f\"Machine {i+1}: Played {total} times, Estimated win rate {success[i] / total:.2f}\")\n",
    "\n",
    "print(\"Best Machine to play:\", success.index(max(success)) + 1)"
   ]
  },
  {
   "cell_type": "code",
   "execution_count": null,
   "id": "2bb78a86",
   "metadata": {},
   "outputs": [],
   "source": []
  }
 ],
 "metadata": {
  "kernelspec": {
   "display_name": "base",
   "language": "python",
   "name": "python3"
  },
  "language_info": {
   "codemirror_mode": {
    "name": "ipython",
    "version": 3
   },
   "file_extension": ".py",
   "mimetype": "text/x-python",
   "name": "python",
   "nbconvert_exporter": "python",
   "pygments_lexer": "ipython3",
   "version": "3.12.3"
  }
 },
 "nbformat": 4,
 "nbformat_minor": 5
}
