{
 "cells": [
  {
   "cell_type": "markdown",
   "id": "02116dbb",
   "metadata": {},
   "source": [
    "BENEFITS\n",
    "\n",
    "- Each machine starts with a random chance of being the best\n",
    "- Every time you play, you update what you know about each machine\n",
    "- Instead of just picking the machine with the highes average, you randomly choose based on how confident you are that a machine is the best\n",
    "\n",
    "Why is this better: Even if a machine"
   ]
  }
 ],
 "metadata": {
  "language_info": {
   "name": "python"
  }
 },
 "nbformat": 4,
 "nbformat_minor": 5
}
