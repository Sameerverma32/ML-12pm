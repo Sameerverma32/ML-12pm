{
 "cells": [
  {
   "cell_type": "markdown",
   "id": "2e620284",
   "metadata": {},
   "source": [
    "BENEFITS\n",
    "\n",
    "- Try each machine once in the beginning\n",
    "- After that, pick the machine that has the best average score\n",
    "- If two machine seem closer, give more chnces to the one that hasn't been tested much\n",
    "\n",
    "Problem - If one machine was lucky in the first few rounds, UCB might keep picking it, even if another machine is acutualy better"
   ]
  },
  {
   "cell_type": "code",
   "execution_count": 1,
   "id": "b877e283",
   "metadata": {},
   "outputs": [],
   "source": [
    "import math\n",
    "import random"
   ]
  },
  {
   "cell_type": "code",
   "execution_count": 2,
   "id": "915a3b0d",
   "metadata": {},
   "outputs": [],
   "source": [
    "n_machines = 3\n",
    "n_trials = 10\n"
   ]
  },
  {
   "cell_type": "markdown",
   "id": "25737d06",
   "metadata": {},
   "source": [
    "- count[i] = store how many times machine i has been played\n",
    "- rewords[i] = store how many total rewards were recived from machine i\n",
    "- initially = all values are 0 because we have not played yet "
   ]
  },
  {
   "cell_type": "code",
   "execution_count": 7,
   "id": "e4357e05",
   "metadata": {},
   "outputs": [],
   "source": [
    "count = [0] * n_machines\n",
    "rewards = [0.0] * n_machines"
   ]
  },
  {
   "cell_type": "code",
   "execution_count": 4,
   "id": "d09aa1a6",
   "metadata": {},
   "outputs": [],
   "source": [
    "true_rewards = [0.2,0.5,0.8]"
   ]
  },
  {
   "cell_type": "code",
   "execution_count": null,
   "id": "d2145ad1",
   "metadata": {},
   "outputs": [],
   "source": [
    "#This loop runs 10 times(since n_trials=10)\n",
    "#Each time, agent choose a slot machine to play\n",
    "for t in range(1,n_trials+1):\n",
    "    #If any machine hasn't been played yet(0 in count), we choose it first\n",
    "    #This ensures each machine is played at least once before applying the UCB formula, this is called exploration\n",
    "    if 0 in count:\n",
    "        arm = count.index(0)\n",
    "    else:\n",
    "        #calculate the UCB for each machine\n",
    "        #Average rewards + exploration bonus\n",
    "        ucb_values = [\n",
    "            rewards[i] / count[i] + math.sqrt(2 * math.log(t) / count[i])\n",
    "            for i in range(n_machines)\n",
    "        ]\n",
    "        arm = ucb_values.index(max(ucb_values)) #This \n",
    "        \n",
    "    reward = 1 if random.random() < true_rewards[arm] else 0\n",
    "    count[arm] += 1\n",
    "    rewards[arm] += reward"
   ]
  },
  {
   "cell_type": "code",
   "execution_count": null,
   "id": "a7b26f8f",
   "metadata": {},
   "outputs": [],
   "source": []
  }
 ],
 "metadata": {
  "kernelspec": {
   "display_name": "base",
   "language": "python",
   "name": "python3"
  },
  "language_info": {
   "codemirror_mode": {
    "name": "ipython",
    "version": 3
   },
   "file_extension": ".py",
   "mimetype": "text/x-python",
   "name": "python",
   "nbconvert_exporter": "python",
   "pygments_lexer": "ipython3",
   "version": "3.12.3"
  }
 },
 "nbformat": 4,
 "nbformat_minor": 5
}
